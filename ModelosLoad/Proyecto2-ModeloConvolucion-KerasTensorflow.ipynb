{
 "cells": [
  {
   "cell_type": "markdown",
   "metadata": {},
   "source": [
    "### Modelo Convolusión 2D - Keras"
   ]
  },
  {
   "cell_type": "markdown",
   "metadata": {},
   "source": [
    "#### Importación de librerias para la generación del modelo"
   ]
  },
  {
   "cell_type": "code",
   "execution_count": 3,
   "metadata": {},
   "outputs": [],
   "source": [
    "import tensorflow as tf\n",
    "import pandas as pd\n",
    "import numpy as np\n",
    "import matplotlib.pyplot as plt\n",
    "from sklearn.model_selection import train_test_split\n",
    "import matplotlib.image as mpimg"
   ]
  },
  {
   "cell_type": "code",
   "execution_count": 4,
   "metadata": {},
   "outputs": [],
   "source": [
    "from tensorflow.keras.preprocessing.image import ImageDataGenerator\n",
    "from tensorflow.keras.applications.xception import preprocess_input"
   ]
  },
  {
   "cell_type": "markdown",
   "metadata": {},
   "source": [
    "#### Se cargan los datos del csv de las imágenes"
   ]
  },
  {
   "cell_type": "code",
   "execution_count": 5,
   "metadata": {},
   "outputs": [],
   "source": [
    "train_df = pd.read_csv('boneage-training-dataset.csv')\n",
    "test_df = pd.read_csv('boneage-test-dataset.csv')\n",
    "\n",
    "train_df['id'] = train_df['id'].apply(lambda x: str(x)+'.png')\n",
    "train_df['gender'] = train_df['male'].apply(lambda x: 'male' if x else 'female')"
   ]
  },
  {
   "cell_type": "markdown",
   "metadata": {},
   "source": [
    "#### Se separa el training data en Training y Validation"
   ]
  },
  {
   "cell_type": "code",
   "execution_count": 6,
   "metadata": {},
   "outputs": [],
   "source": [
    "df_train, df_valid = train_test_split(train_df, test_size = 0.2, random_state = 0)"
   ]
  },
  {
   "cell_type": "markdown",
   "metadata": {},
   "source": [
    "#### Se preparan los sets para las imagenes para Train, Validation y Testing"
   ]
  },
  {
   "cell_type": "code",
   "execution_count": 7,
   "metadata": {},
   "outputs": [
    {
     "name": "stdout",
     "output_type": "stream",
     "text": [
      "Found 10088 validated image filenames.\n",
      "Found 2523 validated image filenames.\n",
      "Found 200 images belonging to 1 classes.\n"
     ]
    }
   ],
   "source": [
    "img_size = 256\n",
    "\n",
    "train_data_generator = ImageDataGenerator(preprocessing_function = preprocess_input)\n",
    "val_data_generator = ImageDataGenerator(preprocessing_function = preprocess_input)\n",
    "\n",
    "train_generator = train_data_generator.flow_from_dataframe(\n",
    "    dataframe = df_train, directory = 'boneage-training-dataset/boneage-training-dataset',\n",
    "    x_col= 'id', y_col= 'boneage', batch_size = 32, seed = 42,\n",
    "    shuffle = True, class_mode= 'raw', flip_vertical = True,\n",
    "    color_mode = 'rgb', target_size = (img_size, img_size))\n",
    "\n",
    "validation_generator = val_data_generator.flow_from_dataframe(\n",
    "    dataframe = df_valid, directory = 'boneage-training-dataset/boneage-training-dataset',\n",
    "    x_col= 'id', y_col= 'boneage', batch_size = 32, seed = 42,\n",
    "    shuffle = True, class_mode= 'raw', flip_vertical = True,\n",
    "    color_mode = 'rgb', target_size = (img_size, img_size))\n",
    "\n",
    "test_data_generator = ImageDataGenerator(preprocessing_function = preprocess_input)\n",
    "\n",
    "test_generator = test_data_generator.flow_from_directory(\n",
    "    directory = 'boneage-test-dataset',\n",
    "    shuffle = False, \n",
    "    class_mode = None,\n",
    "    color_mode = 'rgb',\n",
    "    target_size = (img_size,img_size))"
   ]
  },
  {
   "cell_type": "markdown",
   "metadata": {},
   "source": [
    "#### Se valida la existencia de las imagenes y se transforman a modo de prueba"
   ]
  },
  {
   "cell_type": "code",
   "execution_count": 8,
   "metadata": {},
   "outputs": [
    {
     "name": "stdout",
     "output_type": "stream",
     "text": [
      "Found 2523 validated image filenames.\n"
     ]
    }
   ],
   "source": [
    "test_X, test_Y = next(val_data_generator.flow_from_dataframe( \n",
    "                            dataframe = df_valid, directory = 'boneage-training-dataset/boneage-training-dataset',\n",
    "                            x_col = 'id', y_col = 'boneage', \n",
    "                            target_size = (img_size, img_size),\n",
    "                            batch_size = 2523,\n",
    "                            class_mode = 'raw'\n",
    "                            ))"
   ]
  },
  {
   "cell_type": "markdown",
   "metadata": {},
   "source": [
    "#### Generación del modelo y entrenamiento"
   ]
  },
  {
   "cell_type": "code",
   "execution_count": 9,
   "metadata": {},
   "outputs": [
    {
     "name": "stdout",
     "output_type": "stream",
     "text": [
      "WARNING:tensorflow:From <ipython-input-9-5e2347e9abaf>:20: Model.fit_generator (from tensorflow.python.keras.engine.training) is deprecated and will be removed in a future version.\n",
      "Instructions for updating:\n",
      "Please use Model.fit, which supports generators.\n",
      "Epoch 1/15\n",
      "315/315 [==============================] - 478s 2s/step - loss: 1860.6343 - mse: 1860.6343 - val_loss: 1451.5078 - val_mse: 1451.5078\n",
      "Epoch 2/15\n",
      "315/315 [==============================] - 475s 2s/step - loss: 1398.8809 - mse: 1398.8809 - val_loss: 1620.4595 - val_mse: 1620.4595\n",
      "Epoch 3/15\n",
      "315/315 [==============================] - 471s 1s/step - loss: 1220.8604 - mse: 1220.8604 - val_loss: 1193.9430 - val_mse: 1193.9430\n",
      "Epoch 4/15\n",
      "315/315 [==============================] - 482s 2s/step - loss: 1043.0212 - mse: 1043.0212 - val_loss: 1337.1180 - val_mse: 1337.1180\n",
      "Epoch 5/15\n",
      "315/315 [==============================] - 482s 2s/step - loss: 921.6007 - mse: 921.6007 - val_loss: 1141.9824 - val_mse: 1141.9824\n",
      "Epoch 6/15\n",
      "315/315 [==============================] - 478s 2s/step - loss: 801.6290 - mse: 801.6290 - val_loss: 1090.3987 - val_mse: 1090.3987\n",
      "Epoch 7/15\n",
      "315/315 [==============================] - 476s 2s/step - loss: 691.8653 - mse: 691.8653 - val_loss: 1106.2250 - val_mse: 1106.2250\n",
      "Epoch 8/15\n",
      "315/315 [==============================] - 471s 1s/step - loss: 630.9924 - mse: 630.9924 - val_loss: 1100.9545 - val_mse: 1100.9545\n",
      "Epoch 9/15\n",
      "315/315 [==============================] - 471s 1s/step - loss: 537.9715 - mse: 537.9715 - val_loss: 1300.9897 - val_mse: 1300.9897\n",
      "Epoch 10/15\n",
      "315/315 [==============================] - 468s 1s/step - loss: 475.6004 - mse: 475.6004 - val_loss: 1102.5731 - val_mse: 1102.5731\n",
      "Epoch 11/15\n",
      "315/315 [==============================] - 460s 1s/step - loss: 417.3998 - mse: 417.3998 - val_loss: 1132.8628 - val_mse: 1132.8628\n",
      "Epoch 12/15\n",
      "315/315 [==============================] - 461s 1s/step - loss: 363.8094 - mse: 363.8094 - val_loss: 1114.1403 - val_mse: 1114.1403\n",
      "Epoch 13/15\n",
      "315/315 [==============================] - 466s 1s/step - loss: 332.7989 - mse: 332.7989 - val_loss: 1154.5747 - val_mse: 1154.5747\n",
      "Epoch 14/15\n",
      "315/315 [==============================] - 443s 1s/step - loss: 280.3584 - mse: 280.3584 - val_loss: 1169.4720 - val_mse: 1169.4720\n",
      "Epoch 15/15\n",
      "315/315 [==============================] - 441s 1s/step - loss: 244.5593 - mse: 244.5593 - val_loss: 1270.5830 - val_mse: 1270.5830\n"
     ]
    }
   ],
   "source": [
    "from tensorflow import keras\n",
    "from tensorflow.keras.models import Sequential\n",
    "from tensorflow.keras.layers import Dense, Flatten, Conv2D, Dropout\n",
    "\n",
    "\n",
    "model = Sequential()\n",
    "# Input Layer\n",
    "model.add(Conv2D(16, kernel_size=(7,7), strides=(2,2), activation='relu', input_shape=(img_size, img_size, 3)))\n",
    "# Convulotional Layers\n",
    "model.add(Conv2D(32, kernel_size=(5,5), strides=(2,2), activation='relu'))\n",
    "# Flattening\n",
    "model.add(Flatten())\n",
    "# Dense Layer\n",
    "model.add(Dense(10, activation='relu'))\n",
    "model.add(Dense(1, activation='linear'))\n",
    "model.compile(loss='mean_squared_error', optimizer='adam', metrics=['mse'])\n",
    "\n",
    "STEP_SIZE_TRAIN=train_generator.n//train_generator.batch_size\n",
    "STEP_SIZE_VALID=validation_generator.n//validation_generator.batch_size\n",
    "history = model.fit_generator(generator=train_generator,\n",
    "                    steps_per_epoch=STEP_SIZE_TRAIN,\n",
    "                    validation_data=validation_generator,\n",
    "                    validation_steps=STEP_SIZE_VALID,\n",
    "                    epochs=15)"
   ]
  },
  {
   "cell_type": "markdown",
   "metadata": {},
   "source": [
    "#### Generación de las predicciones con el set de validación"
   ]
  },
  {
   "cell_type": "code",
   "execution_count": 9,
   "metadata": {},
   "outputs": [],
   "source": [
    "predictions = model.predict(validation_generator)"
   ]
  },
  {
   "cell_type": "markdown",
   "metadata": {},
   "source": [
    "#### Se realiza una validación para revisar que tan bien funcionó el modelo"
   ]
  },
  {
   "cell_type": "code",
   "execution_count": 10,
   "metadata": {},
   "outputs": [
    {
     "name": "stdout",
     "output_type": "stream",
     "text": [
      "Edad Osea de la predicción: 184.60518 años\n",
      "Edad Osea real: 94 años\n"
     ]
    }
   ],
   "source": [
    "print(\"Edad Osea de la predicción:\",predictions[0][0],\"meses\")\n",
    "print(\"Edad Osea real:\",df_valid['boneage'].iloc[0],\"meses\")\n"
   ]
  },
  {
   "cell_type": "code",
   "execution_count": 11,
   "metadata": {},
   "outputs": [],
   "source": [
    "fd = open('document.txt','a')\n",
    "for i in range(2523):\n",
    "    fd.write('\\n'+str(df_valid['boneage'].iloc[i]) + ',' + str(predictions[i][0]))\n",
    "fd.close()"
   ]
  },
  {
   "cell_type": "markdown",
   "metadata": {},
   "source": [
    "#### Guardar modelo"
   ]
  },
  {
   "cell_type": "code",
   "execution_count": 10,
   "metadata": {},
   "outputs": [],
   "source": [
    "model.save('modelConvolution2DKeras.h5') "
   ]
  },
  {
   "cell_type": "markdown",
   "metadata": {},
   "source": [
    "#### Cargando el modelo en una nueva variable"
   ]
  },
  {
   "cell_type": "code",
   "execution_count": 12,
   "metadata": {
    "scrolled": true
   },
   "outputs": [
    {
     "name": "stdout",
     "output_type": "stream",
     "text": [
      "Model: \"sequential\"\n",
      "_________________________________________________________________\n",
      "Layer (type)                 Output Shape              Param #   \n",
      "=================================================================\n",
      "conv2d (Conv2D)              (None, 125, 125, 16)      2368      \n",
      "_________________________________________________________________\n",
      "conv2d_1 (Conv2D)            (None, 61, 61, 32)        12832     \n",
      "_________________________________________________________________\n",
      "flatten (Flatten)            (None, 119072)            0         \n",
      "_________________________________________________________________\n",
      "dense (Dense)                (None, 10)                1190730   \n",
      "_________________________________________________________________\n",
      "dense_1 (Dense)              (None, 1)                 11        \n",
      "=================================================================\n",
      "Total params: 1,205,941\n",
      "Trainable params: 1,205,941\n",
      "Non-trainable params: 0\n",
      "_________________________________________________________________\n"
     ]
    }
   ],
   "source": [
    " # Recreate the exact same model, including its weights and the optimizer\n",
    "load_model = tf.keras.models.load_model('modelConvolution2DKeras.h5')\n",
    "\n",
    "# Show the model architecture\n",
    "load_model.summary()"
   ]
  },
  {
   "cell_type": "code",
   "execution_count": 13,
   "metadata": {},
   "outputs": [],
   "source": [
    "load_predictions = load_model.predict(validation_generator)"
   ]
  },
  {
   "cell_type": "code",
   "execution_count": 21,
   "metadata": {},
   "outputs": [
    {
     "name": "stdout",
     "output_type": "stream",
     "text": [
      "Edad Osea de la predicción: 205.00821 meses\n",
      "Edad Osea real: 94 meses\n"
     ]
    }
   ],
   "source": [
    "print(\"Edad Osea de la predicción:\",load_predictions[0][0],\"meses\")\n",
    "print(\"Edad Osea real:\",df_valid['boneage'].iloc[0],\"meses\")"
   ]
  }
 ],
 "metadata": {
  "kernelspec": {
   "display_name": "Python 3",
   "language": "python",
   "name": "python3"
  },
  "language_info": {
   "codemirror_mode": {
    "name": "ipython",
    "version": 3
   },
   "file_extension": ".py",
   "mimetype": "text/x-python",
   "name": "python",
   "nbconvert_exporter": "python",
   "pygments_lexer": "ipython3",
   "version": "3.8.6"
  }
 },
 "nbformat": 4,
 "nbformat_minor": 4
}
